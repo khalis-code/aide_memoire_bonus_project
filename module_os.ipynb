{
 "cells": [
  {
   "cell_type": "markdown",
   "id": "da7c997c",
   "metadata": {},
   "source": [
    "# Module OS"
   ]
  },
  {
   "cell_type": "markdown",
   "id": "8673acfb",
   "metadata": {},
   "source": [
    "Le module os en Python est utile pour effectuer des opérations liées au système d'exploitation, telles que la manipulation de fichiers et de répertoires"
   ]
  },
  {
   "cell_type": "code",
   "execution_count": 1,
   "id": "ffbf9be7",
   "metadata": {},
   "outputs": [],
   "source": [
    "import pandas as pd\n",
    "import os "
   ]
  },
  {
   "cell_type": "markdown",
   "id": "a5b2d808",
   "metadata": {},
   "source": [
    "Obtenir le chemin du répertoire de travail actuel"
   ]
  },
  {
   "cell_type": "code",
   "execution_count": 2,
   "id": "f22d99b6",
   "metadata": {},
   "outputs": [],
   "source": [
    "dossier_actuel = os.getcwd()"
   ]
  },
  {
   "cell_type": "markdown",
   "id": "7b8358b7",
   "metadata": {},
   "source": [
    " Collecter les noms de fichiers"
   ]
  },
  {
   "cell_type": "code",
   "execution_count": 3,
   "id": "8726ed24",
   "metadata": {},
   "outputs": [],
   "source": [
    "noms_fichiers = os.listdir(dossier_actuel)"
   ]
  },
  {
   "cell_type": "code",
   "execution_count": 4,
   "id": "8a998ae5",
   "metadata": {
    "scrolled": true
   },
   "outputs": [
    {
     "data": {
      "text/plain": [
       "['.ipynb_checkpoints',\n",
       " 'data_csv.csv',\n",
       " 'data_excel.xlsx',\n",
       " 'module_os.ipynb',\n",
       " 'pandas_bases.ipynb']"
      ]
     },
     "execution_count": 4,
     "metadata": {},
     "output_type": "execute_result"
    }
   ],
   "source": [
    "noms_fichiers"
   ]
  },
  {
   "cell_type": "markdown",
   "id": "6a5228f6",
   "metadata": {},
   "source": [
    "Autres manières de collecter les fichier avec le boucle FOR "
   ]
  },
  {
   "cell_type": "code",
   "execution_count": 5,
   "id": "f3f1547b",
   "metadata": {},
   "outputs": [],
   "source": [
    "dossier = r'C:\\Users\\hp\\Documents\\training\\training-data-science\\aide_memoire'"
   ]
  },
  {
   "cell_type": "code",
   "execution_count": 6,
   "id": "60ba853e",
   "metadata": {},
   "outputs": [
    {
     "name": "stdout",
     "output_type": "stream",
     "text": [
      ".ipynb_checkpoints\n",
      "data_csv.csv\n",
      "data_excel.xlsx\n",
      "module_os.ipynb\n",
      "pandas_bases.ipynb\n"
     ]
    }
   ],
   "source": [
    "fichiers = [fichier for fichier in os.listdir(dossier)]\n",
    "for fichier in fichiers:\n",
    "    print(fichier)"
   ]
  },
  {
   "cell_type": "markdown",
   "id": "f58ba817",
   "metadata": {},
   "source": [
    "Joindre le nom du fichier avec le chemin du répertoire"
   ]
  },
  {
   "cell_type": "code",
   "execution_count": 7,
   "id": "8f87e10a",
   "metadata": {},
   "outputs": [],
   "source": [
    "chemin_fichier = os.path.join(dossier_actuel, 'data_excel.xlsx')"
   ]
  },
  {
   "cell_type": "markdown",
   "id": "eb465b05",
   "metadata": {},
   "source": [
    "Lire le fichier Excel"
   ]
  },
  {
   "cell_type": "code",
   "execution_count": 8,
   "id": "a900b66c",
   "metadata": {},
   "outputs": [],
   "source": [
    "data = pd.read_excel(chemin_fichier)"
   ]
  },
  {
   "cell_type": "code",
   "execution_count": 9,
   "id": "f2ef5266",
   "metadata": {},
   "outputs": [
    {
     "data": {
      "text/html": [
       "<div>\n",
       "<style scoped>\n",
       "    .dataframe tbody tr th:only-of-type {\n",
       "        vertical-align: middle;\n",
       "    }\n",
       "\n",
       "    .dataframe tbody tr th {\n",
       "        vertical-align: top;\n",
       "    }\n",
       "\n",
       "    .dataframe thead th {\n",
       "        text-align: right;\n",
       "    }\n",
       "</style>\n",
       "<table border=\"1\" class=\"dataframe\">\n",
       "  <thead>\n",
       "    <tr style=\"text-align: right;\">\n",
       "      <th></th>\n",
       "      <th>jeux</th>\n",
       "      <th>expedies</th>\n",
       "      <th>vendus</th>\n",
       "      <th>facebook</th>\n",
       "      <th>magasin</th>\n",
       "      <th>autres</th>\n",
       "      <th>vides</th>\n",
       "      <th>date_1</th>\n",
       "      <th>dates_2</th>\n",
       "      <th>prix</th>\n",
       "      <th>tax</th>\n",
       "      <th>ville</th>\n",
       "    </tr>\n",
       "  </thead>\n",
       "  <tbody>\n",
       "    <tr>\n",
       "      <th>0</th>\n",
       "      <td>pes</td>\n",
       "      <td>11.0</td>\n",
       "      <td>NaN</td>\n",
       "      <td>4.0</td>\n",
       "      <td>4.0</td>\n",
       "      <td>2.0</td>\n",
       "      <td>NaN</td>\n",
       "      <td>2024-01-01</td>\n",
       "      <td>01th Jan 24</td>\n",
       "      <td>$5.36</td>\n",
       "      <td>NaN</td>\n",
       "      <td>389 South St, Atlanta, GA 30301</td>\n",
       "    </tr>\n",
       "    <tr>\n",
       "      <th>1</th>\n",
       "      <td>xbox360</td>\n",
       "      <td>10.0</td>\n",
       "      <td>8.41m</td>\n",
       "      <td>3.0</td>\n",
       "      <td>NaN</td>\n",
       "      <td>5.0</td>\n",
       "      <td>NaN</td>\n",
       "      <td>2019-10-18</td>\n",
       "      <td>18th Nov 19</td>\n",
       "      <td>$3.73</td>\n",
       "      <td>20.0</td>\n",
       "      <td>861 Hill St, Atlanta, GA 30301</td>\n",
       "    </tr>\n",
       "    <tr>\n",
       "      <th>2</th>\n",
       "      <td>xboxOne</td>\n",
       "      <td>15.0</td>\n",
       "      <td>9.06m</td>\n",
       "      <td>3.0</td>\n",
       "      <td>1.0</td>\n",
       "      <td>2.0</td>\n",
       "      <td>NaN</td>\n",
       "      <td>2024-02-18</td>\n",
       "      <td>18th Fev 24</td>\n",
       "      <td>$3.70</td>\n",
       "      <td>20.0</td>\n",
       "      <td>861 Hill St, Atlanta, GA 30301</td>\n",
       "    </tr>\n",
       "    <tr>\n",
       "      <th>3</th>\n",
       "      <td>xboxOne</td>\n",
       "      <td>10.0</td>\n",
       "      <td>9.06m</td>\n",
       "      <td>3.0</td>\n",
       "      <td>1.0</td>\n",
       "      <td>2.0</td>\n",
       "      <td>NaN</td>\n",
       "      <td>2024-02-18</td>\n",
       "      <td>18th Fev 24</td>\n",
       "      <td>$3.70</td>\n",
       "      <td>20.0</td>\n",
       "      <td>861 Hill St, Atlanta, GA 30301</td>\n",
       "    </tr>\n",
       "    <tr>\n",
       "      <th>4</th>\n",
       "      <td>swtich</td>\n",
       "      <td>8.0</td>\n",
       "      <td>6.99m</td>\n",
       "      <td>6.0</td>\n",
       "      <td>NaN</td>\n",
       "      <td>NaN</td>\n",
       "      <td>NaN</td>\n",
       "      <td>2020-03-02</td>\n",
       "      <td>02th Mars 24</td>\n",
       "      <td>$9.24</td>\n",
       "      <td>20.0</td>\n",
       "      <td>190 Ridge St, Atlanta, GA 30301</td>\n",
       "    </tr>\n",
       "    <tr>\n",
       "      <th>5</th>\n",
       "      <td>gameboy</td>\n",
       "      <td>NaN</td>\n",
       "      <td>NaN</td>\n",
       "      <td>NaN</td>\n",
       "      <td>NaN</td>\n",
       "      <td>NaN</td>\n",
       "      <td>NaN</td>\n",
       "      <td>NaT</td>\n",
       "      <td>NaN</td>\n",
       "      <td>NaN</td>\n",
       "      <td>NaN</td>\n",
       "      <td>NaN</td>\n",
       "    </tr>\n",
       "    <tr>\n",
       "      <th>6</th>\n",
       "      <td>android</td>\n",
       "      <td>4.0</td>\n",
       "      <td>0.17m</td>\n",
       "      <td>1.0</td>\n",
       "      <td>1.0</td>\n",
       "      <td>NaN</td>\n",
       "      <td>NaN</td>\n",
       "      <td>2023-03-10</td>\n",
       "      <td>10th Mars 23</td>\n",
       "      <td>$6.29</td>\n",
       "      <td>NaN</td>\n",
       "      <td>824 Forest St, Seattle, WA 98101</td>\n",
       "    </tr>\n",
       "    <tr>\n",
       "      <th>7</th>\n",
       "      <td>android</td>\n",
       "      <td>4.0</td>\n",
       "      <td>0.17m</td>\n",
       "      <td>1.0</td>\n",
       "      <td>1.0</td>\n",
       "      <td>NaN</td>\n",
       "      <td>NaN</td>\n",
       "      <td>2023-03-10</td>\n",
       "      <td>10th Mars 23</td>\n",
       "      <td>$6.29</td>\n",
       "      <td>NaN</td>\n",
       "      <td>824 Forest St, Seattle, WA 98101</td>\n",
       "    </tr>\n",
       "    <tr>\n",
       "      <th>8</th>\n",
       "      <td>android</td>\n",
       "      <td>7.0</td>\n",
       "      <td>3.28m</td>\n",
       "      <td>NaN</td>\n",
       "      <td>1.0</td>\n",
       "      <td>3.0</td>\n",
       "      <td>NaN</td>\n",
       "      <td>2022-09-17</td>\n",
       "      <td>17th Sep 23</td>\n",
       "      <td>$3.70</td>\n",
       "      <td>20.0</td>\n",
       "      <td>745 Chestnut St, New York City, NY 10001</td>\n",
       "    </tr>\n",
       "    <tr>\n",
       "      <th>9</th>\n",
       "      <td>nitendo</td>\n",
       "      <td>6.0</td>\n",
       "      <td>2.82m</td>\n",
       "      <td>2.0</td>\n",
       "      <td>1.0</td>\n",
       "      <td>1.0</td>\n",
       "      <td>NaN</td>\n",
       "      <td>2018-10-23</td>\n",
       "      <td>23rd Oct 18</td>\n",
       "      <td>$9.05</td>\n",
       "      <td>NaN</td>\n",
       "      <td>490 Adams St, New York City, NY 10001</td>\n",
       "    </tr>\n",
       "  </tbody>\n",
       "</table>\n",
       "</div>"
      ],
      "text/plain": [
       "      jeux  expedies vendus  facebook  magasin  autres  vides     date_1   \n",
       "0      pes      11.0    NaN       4.0      4.0     2.0    NaN 2024-01-01  \\\n",
       "1  xbox360      10.0  8.41m       3.0      NaN     5.0    NaN 2019-10-18   \n",
       "2  xboxOne      15.0  9.06m       3.0      1.0     2.0    NaN 2024-02-18   \n",
       "3  xboxOne      10.0  9.06m       3.0      1.0     2.0    NaN 2024-02-18   \n",
       "4   swtich       8.0  6.99m       6.0      NaN     NaN    NaN 2020-03-02   \n",
       "5  gameboy       NaN    NaN       NaN      NaN     NaN    NaN        NaT   \n",
       "6  android       4.0  0.17m       1.0      1.0     NaN    NaN 2023-03-10   \n",
       "7  android       4.0  0.17m       1.0      1.0     NaN    NaN 2023-03-10   \n",
       "8  android       7.0  3.28m       NaN      1.0     3.0    NaN 2022-09-17   \n",
       "9  nitendo       6.0  2.82m       2.0      1.0     1.0    NaN 2018-10-23   \n",
       "\n",
       "        dates_2   prix   tax                                     ville  \n",
       "0   01th Jan 24  $5.36   NaN           389 South St, Atlanta, GA 30301  \n",
       "1   18th Nov 19  $3.73  20.0            861 Hill St, Atlanta, GA 30301  \n",
       "2   18th Fev 24  $3.70  20.0            861 Hill St, Atlanta, GA 30301  \n",
       "3   18th Fev 24  $3.70  20.0            861 Hill St, Atlanta, GA 30301  \n",
       "4  02th Mars 24  $9.24  20.0           190 Ridge St, Atlanta, GA 30301  \n",
       "5           NaN    NaN   NaN                                       NaN  \n",
       "6  10th Mars 23  $6.29   NaN          824 Forest St, Seattle, WA 98101  \n",
       "7  10th Mars 23  $6.29   NaN          824 Forest St, Seattle, WA 98101  \n",
       "8   17th Sep 23  $3.70  20.0  745 Chestnut St, New York City, NY 10001  \n",
       "9   23rd Oct 18  $9.05   NaN     490 Adams St, New York City, NY 10001  "
      ]
     },
     "execution_count": 9,
     "metadata": {},
     "output_type": "execute_result"
    }
   ],
   "source": [
    "data"
   ]
  },
  {
   "cell_type": "code",
   "execution_count": null,
   "id": "890d70bd",
   "metadata": {},
   "outputs": [],
   "source": []
  },
  {
   "cell_type": "markdown",
   "id": "ad39e085",
   "metadata": {},
   "source": [
    "Vérifier si un fichier ou un répertoire existe : Vous pouvez utiliser \n",
    "os.path.exists()      pour vérifier si un fichier ou un répertoire existe."
   ]
  },
  {
   "cell_type": "markdown",
   "id": "03411fa3",
   "metadata": {},
   "source": [
    "Créer un répertoire : Utilisez os.makedirs() pour créer un répertoire et ses sous-répertoires si nécessaire."
   ]
  },
  {
   "cell_type": "markdown",
   "id": "6b83fd6e",
   "metadata": {},
   "source": [
    "Supprimer un fichier ou un répertoire : Utilisez os.remove() pour supprimer un fichier et os.rmdir() pour supprimer un répertoire vide."
   ]
  },
  {
   "cell_type": "markdown",
   "id": "1564895d",
   "metadata": {},
   "source": [
    "Obtenir le chemin absolu : Utilisez os.path.abspath() pour obtenir le chemin absolu d'un fichier ou d'un répertoire."
   ]
  },
  {
   "cell_type": "code",
   "execution_count": null,
   "id": "72135be3",
   "metadata": {},
   "outputs": [],
   "source": []
  }
 ],
 "metadata": {
  "kernelspec": {
   "display_name": "Python 3 (ipykernel)",
   "language": "python",
   "name": "python3"
  },
  "language_info": {
   "codemirror_mode": {
    "name": "ipython",
    "version": 3
   },
   "file_extension": ".py",
   "mimetype": "text/x-python",
   "name": "python",
   "nbconvert_exporter": "python",
   "pygments_lexer": "ipython3",
   "version": "3.10.10"
  }
 },
 "nbformat": 4,
 "nbformat_minor": 5
}
