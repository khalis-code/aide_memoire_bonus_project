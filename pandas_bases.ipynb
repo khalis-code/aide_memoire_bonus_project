{
 "cells": [
  {
   "cell_type": "raw",
   "id": "d72ebaeb",
   "metadata": {},
   "source": [
    "Pandas est la librairie Python utilisé pour la manipulation des données tabulaires. Elle est basé sur numpy et propose des méthodes pour importer, analyser, selectionner, filtrer, visualiser et exporter des données."
   ]
  },
  {
   "cell_type": "markdown",
   "id": "21b0ebab",
   "metadata": {},
   "source": [
    "# Manipulation de données avec Pandas "
   ]
  },
  {
   "cell_type": "markdown",
   "id": "b2ee0e8a",
   "metadata": {},
   "source": [
    "Decouvert de données "
   ]
  },
  {
   "cell_type": "markdown",
   "id": "a0a3cea5",
   "metadata": {},
   "source": [
    "Importer les bibliothèques"
   ]
  },
  {
   "cell_type": "code",
   "execution_count": 1,
   "id": "5f0c1da4",
   "metadata": {},
   "outputs": [],
   "source": [
    "import pandas as pd"
   ]
  },
  {
   "cell_type": "markdown",
   "id": "bff7dc9b",
   "metadata": {},
   "source": [
    "Nous avons dans le dossier excel-analyse un fichier essaie.csv"
   ]
  },
  {
   "cell_type": "code",
   "execution_count": 2,
   "id": "2dd91ad4",
   "metadata": {
    "scrolled": true
   },
   "outputs": [],
   "source": [
    "dossier = r'C:\\Users\\hp\\Documents\\training\\training-data-science\\aide_memoire'\n"
   ]
  },
  {
   "cell_type": "code",
   "execution_count": 3,
   "id": "d01f856f",
   "metadata": {},
   "outputs": [],
   "source": [
    "chemin_fichier = dossier + '\\\\data_csv.csv'"
   ]
  },
  {
   "cell_type": "markdown",
   "id": "19d096a0",
   "metadata": {},
   "source": [
    "Pour importer les données dans ce fichier , nous utiliserons la fonction `read_csv` et on lui passe de chemin de fichier `essaie.csv`; sep=';' : pour les veluers separés pas des ';'"
   ]
  },
  {
   "cell_type": "code",
   "execution_count": 4,
   "id": "79ac9925",
   "metadata": {},
   "outputs": [],
   "source": [
    "data = pd.read_csv(chemin_fichier , sep=';')"
   ]
  },
  {
   "cell_type": "markdown",
   "id": "934e1a4e",
   "metadata": {},
   "source": [
    "La variable essaie contient nos données et elle est de type DataFrame"
   ]
  },
  {
   "cell_type": "code",
   "execution_count": 5,
   "id": "4c2a70c0",
   "metadata": {},
   "outputs": [
    {
     "data": {
      "text/plain": [
       "pandas.core.frame.DataFrame"
      ]
     },
     "execution_count": 5,
     "metadata": {},
     "output_type": "execute_result"
    }
   ],
   "source": [
    "type(data)"
   ]
  },
  {
   "cell_type": "markdown",
   "id": "593b50b9",
   "metadata": {},
   "source": [
    "Affichons cette variable pour voir ce qu'il y a à l'intérieur :"
   ]
  },
  {
   "cell_type": "code",
   "execution_count": 6,
   "id": "4b06fc9c",
   "metadata": {},
   "outputs": [
    {
     "data": {
      "text/html": [
       "<div>\n",
       "<style scoped>\n",
       "    .dataframe tbody tr th:only-of-type {\n",
       "        vertical-align: middle;\n",
       "    }\n",
       "\n",
       "    .dataframe tbody tr th {\n",
       "        vertical-align: top;\n",
       "    }\n",
       "\n",
       "    .dataframe thead th {\n",
       "        text-align: right;\n",
       "    }\n",
       "</style>\n",
       "<table border=\"1\" class=\"dataframe\">\n",
       "  <thead>\n",
       "    <tr style=\"text-align: right;\">\n",
       "      <th></th>\n",
       "      <th>jeux</th>\n",
       "      <th>expedies</th>\n",
       "      <th>vendus</th>\n",
       "      <th>facebook</th>\n",
       "      <th>magasin</th>\n",
       "      <th>autres</th>\n",
       "      <th>col_vides</th>\n",
       "      <th>date_1</th>\n",
       "      <th>dates_2</th>\n",
       "      <th>prix</th>\n",
       "      <th>tax</th>\n",
       "      <th>ville</th>\n",
       "    </tr>\n",
       "  </thead>\n",
       "  <tbody>\n",
       "    <tr>\n",
       "      <th>0</th>\n",
       "      <td>pes</td>\n",
       "      <td>11.0</td>\n",
       "      <td>NaN</td>\n",
       "      <td>4.0</td>\n",
       "      <td>4.0</td>\n",
       "      <td>2.0</td>\n",
       "      <td>NaN</td>\n",
       "      <td>01/01/2024</td>\n",
       "      <td>01th Jan 24</td>\n",
       "      <td>$5.36</td>\n",
       "      <td>NaN</td>\n",
       "      <td>389 South St, Atlanta, GA 30301</td>\n",
       "    </tr>\n",
       "    <tr>\n",
       "      <th>1</th>\n",
       "      <td>xbox360</td>\n",
       "      <td>10.0</td>\n",
       "      <td>7.41m</td>\n",
       "      <td>3.0</td>\n",
       "      <td>NaN</td>\n",
       "      <td>5.0</td>\n",
       "      <td>NaN</td>\n",
       "      <td>18/10/2019</td>\n",
       "      <td>18th Nov 19</td>\n",
       "      <td>$3.73</td>\n",
       "      <td>20.0</td>\n",
       "      <td>861 Hill St, Atlanta, GA 30301</td>\n",
       "    </tr>\n",
       "    <tr>\n",
       "      <th>2</th>\n",
       "      <td>xboxOne</td>\n",
       "      <td>15.0</td>\n",
       "      <td>8.06m</td>\n",
       "      <td>3.0</td>\n",
       "      <td>1.0</td>\n",
       "      <td>2.0</td>\n",
       "      <td>NaN</td>\n",
       "      <td>18/02/2024</td>\n",
       "      <td>18th Fev 24</td>\n",
       "      <td>$3.70</td>\n",
       "      <td>20.0</td>\n",
       "      <td>861 Hill St, Atlanta, GA 30301</td>\n",
       "    </tr>\n",
       "    <tr>\n",
       "      <th>3</th>\n",
       "      <td>xboxOne</td>\n",
       "      <td>10.0</td>\n",
       "      <td>7.06m</td>\n",
       "      <td>3.0</td>\n",
       "      <td>1.0</td>\n",
       "      <td>2.0</td>\n",
       "      <td>NaN</td>\n",
       "      <td>18/02/2024</td>\n",
       "      <td>18th Fev 24</td>\n",
       "      <td>$3.70</td>\n",
       "      <td>20.0</td>\n",
       "      <td>861 Hill St, Atlanta, GA 30301</td>\n",
       "    </tr>\n",
       "    <tr>\n",
       "      <th>4</th>\n",
       "      <td>swtich</td>\n",
       "      <td>8.0</td>\n",
       "      <td>5.99m</td>\n",
       "      <td>6.0</td>\n",
       "      <td>NaN</td>\n",
       "      <td>NaN</td>\n",
       "      <td>NaN</td>\n",
       "      <td>02/03/2020</td>\n",
       "      <td>02th Mars 24</td>\n",
       "      <td>$9.24</td>\n",
       "      <td>20.0</td>\n",
       "      <td>190 Ridge St, Atlanta, GA 30301</td>\n",
       "    </tr>\n",
       "    <tr>\n",
       "      <th>5</th>\n",
       "      <td>gameboy</td>\n",
       "      <td>NaN</td>\n",
       "      <td>NaN</td>\n",
       "      <td>NaN</td>\n",
       "      <td>NaN</td>\n",
       "      <td>NaN</td>\n",
       "      <td>NaN</td>\n",
       "      <td>NaN</td>\n",
       "      <td>NaN</td>\n",
       "      <td>NaN</td>\n",
       "      <td>NaN</td>\n",
       "      <td>NaN</td>\n",
       "    </tr>\n",
       "    <tr>\n",
       "      <th>6</th>\n",
       "      <td>android</td>\n",
       "      <td>4.0</td>\n",
       "      <td>0.17m</td>\n",
       "      <td>1.0</td>\n",
       "      <td>1.0</td>\n",
       "      <td>NaN</td>\n",
       "      <td>NaN</td>\n",
       "      <td>10/03/2023</td>\n",
       "      <td>10th Mars 23</td>\n",
       "      <td>$6.29</td>\n",
       "      <td>NaN</td>\n",
       "      <td>824 Forest St, Seattle, WA 98101</td>\n",
       "    </tr>\n",
       "    <tr>\n",
       "      <th>7</th>\n",
       "      <td>android</td>\n",
       "      <td>4.0</td>\n",
       "      <td>0.17m</td>\n",
       "      <td>1.0</td>\n",
       "      <td>1.0</td>\n",
       "      <td>NaN</td>\n",
       "      <td>NaN</td>\n",
       "      <td>10/03/2023</td>\n",
       "      <td>10th Mars 23</td>\n",
       "      <td>$6.29</td>\n",
       "      <td>NaN</td>\n",
       "      <td>824 Forest St, Seattle, WA 98101</td>\n",
       "    </tr>\n",
       "    <tr>\n",
       "      <th>8</th>\n",
       "      <td>android</td>\n",
       "      <td>7.0</td>\n",
       "      <td>3.28m</td>\n",
       "      <td>NaN</td>\n",
       "      <td>1.0</td>\n",
       "      <td>3.0</td>\n",
       "      <td>NaN</td>\n",
       "      <td>17/09/2022</td>\n",
       "      <td>17th Sep 23</td>\n",
       "      <td>$3.70</td>\n",
       "      <td>20.0</td>\n",
       "      <td>745 Chestnut St, New York City, NY 10001</td>\n",
       "    </tr>\n",
       "    <tr>\n",
       "      <th>9</th>\n",
       "      <td>nitendo</td>\n",
       "      <td>6.0</td>\n",
       "      <td>2.82m</td>\n",
       "      <td>2.0</td>\n",
       "      <td>1.0</td>\n",
       "      <td>1.0</td>\n",
       "      <td>NaN</td>\n",
       "      <td>23/10/2018</td>\n",
       "      <td>23rd Oct 18</td>\n",
       "      <td>$9.05</td>\n",
       "      <td>NaN</td>\n",
       "      <td>490 Adams St, New York City, NY 10001</td>\n",
       "    </tr>\n",
       "  </tbody>\n",
       "</table>\n",
       "</div>"
      ],
      "text/plain": [
       "      jeux  expedies vendus  facebook  magasin  autres  col_vides      date_1   \n",
       "0      pes      11.0    NaN       4.0      4.0     2.0        NaN  01/01/2024  \\\n",
       "1  xbox360      10.0  7.41m       3.0      NaN     5.0        NaN  18/10/2019   \n",
       "2  xboxOne      15.0  8.06m       3.0      1.0     2.0        NaN  18/02/2024   \n",
       "3  xboxOne      10.0  7.06m       3.0      1.0     2.0        NaN  18/02/2024   \n",
       "4   swtich       8.0  5.99m       6.0      NaN     NaN        NaN  02/03/2020   \n",
       "5  gameboy       NaN    NaN       NaN      NaN     NaN        NaN         NaN   \n",
       "6  android       4.0  0.17m       1.0      1.0     NaN        NaN  10/03/2023   \n",
       "7  android       4.0  0.17m       1.0      1.0     NaN        NaN  10/03/2023   \n",
       "8  android       7.0  3.28m       NaN      1.0     3.0        NaN  17/09/2022   \n",
       "9  nitendo       6.0  2.82m       2.0      1.0     1.0        NaN  23/10/2018   \n",
       "\n",
       "        dates_2   prix   tax                                     ville  \n",
       "0   01th Jan 24  $5.36   NaN           389 South St, Atlanta, GA 30301  \n",
       "1   18th Nov 19  $3.73  20.0            861 Hill St, Atlanta, GA 30301  \n",
       "2   18th Fev 24  $3.70  20.0            861 Hill St, Atlanta, GA 30301  \n",
       "3   18th Fev 24  $3.70  20.0            861 Hill St, Atlanta, GA 30301  \n",
       "4  02th Mars 24  $9.24  20.0           190 Ridge St, Atlanta, GA 30301  \n",
       "5           NaN    NaN   NaN                                       NaN  \n",
       "6  10th Mars 23  $6.29   NaN          824 Forest St, Seattle, WA 98101  \n",
       "7  10th Mars 23  $6.29   NaN          824 Forest St, Seattle, WA 98101  \n",
       "8   17th Sep 23  $3.70  20.0  745 Chestnut St, New York City, NY 10001  \n",
       "9   23rd Oct 18  $9.05   NaN     490 Adams St, New York City, NY 10001  "
      ]
     },
     "execution_count": 6,
     "metadata": {},
     "output_type": "execute_result"
    }
   ],
   "source": [
    "data"
   ]
  },
  {
   "cell_type": "markdown",
   "id": "09611a64",
   "metadata": {},
   "source": [
    "On peut remarquer que les colonnes sont identifiables par leur nom sur la première ligne et que les lignes sont identifiables par un numéro unique à gauche. La colonne qui contient les numeros des lignes est appélé index du DataFrame.\n",
    "\n",
    "Nous pouvons jeter un coup d'oeil aux 3 premières lignes de notre Dataframe avec la fonction head:\n",
    "      data.tail() pour afficher les dernier lignes "
   ]
  },
  {
   "cell_type": "code",
   "execution_count": 7,
   "id": "42837474",
   "metadata": {},
   "outputs": [
    {
     "data": {
      "text/html": [
       "<div>\n",
       "<style scoped>\n",
       "    .dataframe tbody tr th:only-of-type {\n",
       "        vertical-align: middle;\n",
       "    }\n",
       "\n",
       "    .dataframe tbody tr th {\n",
       "        vertical-align: top;\n",
       "    }\n",
       "\n",
       "    .dataframe thead th {\n",
       "        text-align: right;\n",
       "    }\n",
       "</style>\n",
       "<table border=\"1\" class=\"dataframe\">\n",
       "  <thead>\n",
       "    <tr style=\"text-align: right;\">\n",
       "      <th></th>\n",
       "      <th>jeux</th>\n",
       "      <th>expedies</th>\n",
       "      <th>vendus</th>\n",
       "      <th>facebook</th>\n",
       "      <th>magasin</th>\n",
       "      <th>autres</th>\n",
       "      <th>col_vides</th>\n",
       "      <th>date_1</th>\n",
       "      <th>dates_2</th>\n",
       "      <th>prix</th>\n",
       "      <th>tax</th>\n",
       "      <th>ville</th>\n",
       "    </tr>\n",
       "  </thead>\n",
       "  <tbody>\n",
       "    <tr>\n",
       "      <th>0</th>\n",
       "      <td>pes</td>\n",
       "      <td>11.0</td>\n",
       "      <td>NaN</td>\n",
       "      <td>4.0</td>\n",
       "      <td>4.0</td>\n",
       "      <td>2.0</td>\n",
       "      <td>NaN</td>\n",
       "      <td>01/01/2024</td>\n",
       "      <td>01th Jan 24</td>\n",
       "      <td>$5.36</td>\n",
       "      <td>NaN</td>\n",
       "      <td>389 South St, Atlanta, GA 30301</td>\n",
       "    </tr>\n",
       "    <tr>\n",
       "      <th>1</th>\n",
       "      <td>xbox360</td>\n",
       "      <td>10.0</td>\n",
       "      <td>7.41m</td>\n",
       "      <td>3.0</td>\n",
       "      <td>NaN</td>\n",
       "      <td>5.0</td>\n",
       "      <td>NaN</td>\n",
       "      <td>18/10/2019</td>\n",
       "      <td>18th Nov 19</td>\n",
       "      <td>$3.73</td>\n",
       "      <td>20.0</td>\n",
       "      <td>861 Hill St, Atlanta, GA 30301</td>\n",
       "    </tr>\n",
       "    <tr>\n",
       "      <th>2</th>\n",
       "      <td>xboxOne</td>\n",
       "      <td>15.0</td>\n",
       "      <td>8.06m</td>\n",
       "      <td>3.0</td>\n",
       "      <td>1.0</td>\n",
       "      <td>2.0</td>\n",
       "      <td>NaN</td>\n",
       "      <td>18/02/2024</td>\n",
       "      <td>18th Fev 24</td>\n",
       "      <td>$3.70</td>\n",
       "      <td>20.0</td>\n",
       "      <td>861 Hill St, Atlanta, GA 30301</td>\n",
       "    </tr>\n",
       "  </tbody>\n",
       "</table>\n",
       "</div>"
      ],
      "text/plain": [
       "      jeux  expedies vendus  facebook  magasin  autres  col_vides      date_1   \n",
       "0      pes      11.0    NaN       4.0      4.0     2.0        NaN  01/01/2024  \\\n",
       "1  xbox360      10.0  7.41m       3.0      NaN     5.0        NaN  18/10/2019   \n",
       "2  xboxOne      15.0  8.06m       3.0      1.0     2.0        NaN  18/02/2024   \n",
       "\n",
       "       dates_2   prix   tax                            ville  \n",
       "0  01th Jan 24  $5.36   NaN  389 South St, Atlanta, GA 30301  \n",
       "1  18th Nov 19  $3.73  20.0   861 Hill St, Atlanta, GA 30301  \n",
       "2  18th Fev 24  $3.70  20.0   861 Hill St, Atlanta, GA 30301  "
      ]
     },
     "execution_count": 7,
     "metadata": {},
     "output_type": "execute_result"
    }
   ],
   "source": [
    "data.head(3)"
   ]
  },
  {
   "cell_type": "code",
   "execution_count": 8,
   "id": "f39d8a0f",
   "metadata": {},
   "outputs": [
    {
     "data": {
      "text/plain": [
       "Index(['jeux', 'expedies', 'vendus', 'facebook', 'magasin', 'autres',\n",
       "       'col_vides', 'date_1', 'dates_2', 'prix', 'tax', 'ville'],\n",
       "      dtype='object')"
      ]
     },
     "execution_count": 8,
     "metadata": {},
     "output_type": "execute_result"
    }
   ],
   "source": [
    "data.columns"
   ]
  },
  {
   "cell_type": "code",
   "execution_count": 9,
   "id": "27a51fc7",
   "metadata": {},
   "outputs": [
    {
     "data": {
      "text/plain": [
       "pandas.core.indexes.base.Index"
      ]
     },
     "execution_count": 9,
     "metadata": {},
     "output_type": "execute_result"
    }
   ],
   "source": [
    "type(data.columns)"
   ]
  },
  {
   "cell_type": "markdown",
   "id": "30bcae56",
   "metadata": {},
   "source": [
    "Affichons l'index : "
   ]
  },
  {
   "cell_type": "code",
   "execution_count": 10,
   "id": "80fd6945",
   "metadata": {},
   "outputs": [
    {
     "data": {
      "text/plain": [
       "RangeIndex(start=0, stop=10, step=1)"
      ]
     },
     "execution_count": 10,
     "metadata": {},
     "output_type": "execute_result"
    }
   ],
   "source": [
    "data.index"
   ]
  },
  {
   "cell_type": "markdown",
   "id": "83fa9830",
   "metadata": {},
   "source": [
    "Nous pouvons avoir accès aux valeurs du DataFrame Sous forme de tableau numpy avec l'attribut **values** : "
   ]
  },
  {
   "cell_type": "code",
   "execution_count": 11,
   "id": "41ec8642",
   "metadata": {},
   "outputs": [
    {
     "data": {
      "text/plain": [
       "array([['pes', 11.0, nan, 4.0, 4.0, 2.0, nan, '01/01/2024',\n",
       "        '01th Jan 24', '$5.36', nan, '389 South St, Atlanta, GA 30301'],\n",
       "       ['xbox360', 10.0, '7.41m', 3.0, nan, 5.0, nan, '18/10/2019',\n",
       "        '18th Nov 19', '$3.73', 20.0, '861 Hill St, Atlanta, GA 30301'],\n",
       "       ['xboxOne', 15.0, '8.06m', 3.0, 1.0, 2.0, nan, '18/02/2024',\n",
       "        '18th Fev 24', '$3.70', 20.0, '861 Hill St, Atlanta, GA 30301'],\n",
       "       ['xboxOne', 10.0, '7.06m', 3.0, 1.0, 2.0, nan, '18/02/2024',\n",
       "        '18th Fev 24', '$3.70', 20.0, '861 Hill St, Atlanta, GA 30301'],\n",
       "       ['swtich', 8.0, '5.99m', 6.0, nan, nan, nan, '02/03/2020',\n",
       "        '02th Mars 24', '$9.24', 20.0, '190 Ridge St, Atlanta, GA 30301'],\n",
       "       ['gameboy', nan, nan, nan, nan, nan, nan, nan, nan, nan, nan, nan],\n",
       "       ['android', 4.0, '0.17m', 1.0, 1.0, nan, nan, '10/03/2023',\n",
       "        '10th Mars 23', '$6.29', nan, '824 Forest St, Seattle, WA 98101'],\n",
       "       ['android', 4.0, '0.17m', 1.0, 1.0, nan, nan, '10/03/2023',\n",
       "        '10th Mars 23', '$6.29', nan, '824 Forest St, Seattle, WA 98101'],\n",
       "       ['android', 7.0, '3.28m', nan, 1.0, 3.0, nan, '17/09/2022',\n",
       "        '17th Sep 23', '$3.70', 20.0,\n",
       "        '745 Chestnut St, New York City, NY 10001'],\n",
       "       ['nitendo', 6.0, '2.82m', 2.0, 1.0, 1.0, nan, '23/10/2018',\n",
       "        '23rd Oct 18', '$9.05', nan,\n",
       "        '490 Adams St, New York City, NY 10001']], dtype=object)"
      ]
     },
     "execution_count": 11,
     "metadata": {},
     "output_type": "execute_result"
    }
   ],
   "source": [
    "data.values"
   ]
  },
  {
   "cell_type": "markdown",
   "id": "006c034f",
   "metadata": {},
   "source": [
    "Nous pouvons avoir accès au nombre de lignes et de colonnes du df  :"
   ]
  },
  {
   "cell_type": "code",
   "execution_count": 12,
   "id": "d20c4002",
   "metadata": {},
   "outputs": [
    {
     "data": {
      "text/plain": [
       "(10, 12)"
      ]
     },
     "execution_count": 12,
     "metadata": {},
     "output_type": "execute_result"
    }
   ],
   "source": [
    "data.values.shape"
   ]
  },
  {
   "cell_type": "markdown",
   "id": "f1f80ba9",
   "metadata": {},
   "source": [
    "Nous avons 5 ligne et 6 colonnes. Jetons un coup d'oeil au type de données dans chaque variable : "
   ]
  },
  {
   "cell_type": "code",
   "execution_count": 13,
   "id": "90731cc7",
   "metadata": {},
   "outputs": [
    {
     "data": {
      "text/plain": [
       "jeux          object\n",
       "expedies     float64\n",
       "vendus        object\n",
       "facebook     float64\n",
       "magasin      float64\n",
       "autres       float64\n",
       "col_vides    float64\n",
       "date_1        object\n",
       "dates_2       object\n",
       "prix          object\n",
       "tax          float64\n",
       "ville         object\n",
       "dtype: object"
      ]
     },
     "execution_count": 13,
     "metadata": {},
     "output_type": "execute_result"
    }
   ],
   "source": [
    "data.dtypes"
   ]
  },
  {
   "cell_type": "markdown",
   "id": "ee9712ef",
   "metadata": {},
   "source": [
    "# Selectionner une colonne d'un df"
   ]
  },
  {
   "cell_type": "code",
   "execution_count": 14,
   "id": "81eaf5d7",
   "metadata": {},
   "outputs": [
    {
     "data": {
      "text/html": [
       "<div>\n",
       "<style scoped>\n",
       "    .dataframe tbody tr th:only-of-type {\n",
       "        vertical-align: middle;\n",
       "    }\n",
       "\n",
       "    .dataframe tbody tr th {\n",
       "        vertical-align: top;\n",
       "    }\n",
       "\n",
       "    .dataframe thead th {\n",
       "        text-align: right;\n",
       "    }\n",
       "</style>\n",
       "<table border=\"1\" class=\"dataframe\">\n",
       "  <thead>\n",
       "    <tr style=\"text-align: right;\">\n",
       "      <th></th>\n",
       "      <th>jeux</th>\n",
       "      <th>expedies</th>\n",
       "      <th>vendus</th>\n",
       "      <th>facebook</th>\n",
       "      <th>magasin</th>\n",
       "      <th>autres</th>\n",
       "      <th>col_vides</th>\n",
       "      <th>date_1</th>\n",
       "      <th>dates_2</th>\n",
       "      <th>prix</th>\n",
       "      <th>tax</th>\n",
       "      <th>ville</th>\n",
       "    </tr>\n",
       "  </thead>\n",
       "  <tbody>\n",
       "    <tr>\n",
       "      <th>0</th>\n",
       "      <td>pes</td>\n",
       "      <td>11.0</td>\n",
       "      <td>NaN</td>\n",
       "      <td>4.0</td>\n",
       "      <td>4.0</td>\n",
       "      <td>2.0</td>\n",
       "      <td>NaN</td>\n",
       "      <td>01/01/2024</td>\n",
       "      <td>01th Jan 24</td>\n",
       "      <td>$5.36</td>\n",
       "      <td>NaN</td>\n",
       "      <td>389 South St, Atlanta, GA 30301</td>\n",
       "    </tr>\n",
       "    <tr>\n",
       "      <th>1</th>\n",
       "      <td>xbox360</td>\n",
       "      <td>10.0</td>\n",
       "      <td>7.41m</td>\n",
       "      <td>3.0</td>\n",
       "      <td>NaN</td>\n",
       "      <td>5.0</td>\n",
       "      <td>NaN</td>\n",
       "      <td>18/10/2019</td>\n",
       "      <td>18th Nov 19</td>\n",
       "      <td>$3.73</td>\n",
       "      <td>20.0</td>\n",
       "      <td>861 Hill St, Atlanta, GA 30301</td>\n",
       "    </tr>\n",
       "    <tr>\n",
       "      <th>2</th>\n",
       "      <td>xboxOne</td>\n",
       "      <td>15.0</td>\n",
       "      <td>8.06m</td>\n",
       "      <td>3.0</td>\n",
       "      <td>1.0</td>\n",
       "      <td>2.0</td>\n",
       "      <td>NaN</td>\n",
       "      <td>18/02/2024</td>\n",
       "      <td>18th Fev 24</td>\n",
       "      <td>$3.70</td>\n",
       "      <td>20.0</td>\n",
       "      <td>861 Hill St, Atlanta, GA 30301</td>\n",
       "    </tr>\n",
       "    <tr>\n",
       "      <th>3</th>\n",
       "      <td>xboxOne</td>\n",
       "      <td>10.0</td>\n",
       "      <td>7.06m</td>\n",
       "      <td>3.0</td>\n",
       "      <td>1.0</td>\n",
       "      <td>2.0</td>\n",
       "      <td>NaN</td>\n",
       "      <td>18/02/2024</td>\n",
       "      <td>18th Fev 24</td>\n",
       "      <td>$3.70</td>\n",
       "      <td>20.0</td>\n",
       "      <td>861 Hill St, Atlanta, GA 30301</td>\n",
       "    </tr>\n",
       "    <tr>\n",
       "      <th>4</th>\n",
       "      <td>swtich</td>\n",
       "      <td>8.0</td>\n",
       "      <td>5.99m</td>\n",
       "      <td>6.0</td>\n",
       "      <td>NaN</td>\n",
       "      <td>NaN</td>\n",
       "      <td>NaN</td>\n",
       "      <td>02/03/2020</td>\n",
       "      <td>02th Mars 24</td>\n",
       "      <td>$9.24</td>\n",
       "      <td>20.0</td>\n",
       "      <td>190 Ridge St, Atlanta, GA 30301</td>\n",
       "    </tr>\n",
       "    <tr>\n",
       "      <th>5</th>\n",
       "      <td>gameboy</td>\n",
       "      <td>NaN</td>\n",
       "      <td>NaN</td>\n",
       "      <td>NaN</td>\n",
       "      <td>NaN</td>\n",
       "      <td>NaN</td>\n",
       "      <td>NaN</td>\n",
       "      <td>NaN</td>\n",
       "      <td>NaN</td>\n",
       "      <td>NaN</td>\n",
       "      <td>NaN</td>\n",
       "      <td>NaN</td>\n",
       "    </tr>\n",
       "    <tr>\n",
       "      <th>6</th>\n",
       "      <td>android</td>\n",
       "      <td>4.0</td>\n",
       "      <td>0.17m</td>\n",
       "      <td>1.0</td>\n",
       "      <td>1.0</td>\n",
       "      <td>NaN</td>\n",
       "      <td>NaN</td>\n",
       "      <td>10/03/2023</td>\n",
       "      <td>10th Mars 23</td>\n",
       "      <td>$6.29</td>\n",
       "      <td>NaN</td>\n",
       "      <td>824 Forest St, Seattle, WA 98101</td>\n",
       "    </tr>\n",
       "    <tr>\n",
       "      <th>7</th>\n",
       "      <td>android</td>\n",
       "      <td>4.0</td>\n",
       "      <td>0.17m</td>\n",
       "      <td>1.0</td>\n",
       "      <td>1.0</td>\n",
       "      <td>NaN</td>\n",
       "      <td>NaN</td>\n",
       "      <td>10/03/2023</td>\n",
       "      <td>10th Mars 23</td>\n",
       "      <td>$6.29</td>\n",
       "      <td>NaN</td>\n",
       "      <td>824 Forest St, Seattle, WA 98101</td>\n",
       "    </tr>\n",
       "    <tr>\n",
       "      <th>8</th>\n",
       "      <td>android</td>\n",
       "      <td>7.0</td>\n",
       "      <td>3.28m</td>\n",
       "      <td>NaN</td>\n",
       "      <td>1.0</td>\n",
       "      <td>3.0</td>\n",
       "      <td>NaN</td>\n",
       "      <td>17/09/2022</td>\n",
       "      <td>17th Sep 23</td>\n",
       "      <td>$3.70</td>\n",
       "      <td>20.0</td>\n",
       "      <td>745 Chestnut St, New York City, NY 10001</td>\n",
       "    </tr>\n",
       "    <tr>\n",
       "      <th>9</th>\n",
       "      <td>nitendo</td>\n",
       "      <td>6.0</td>\n",
       "      <td>2.82m</td>\n",
       "      <td>2.0</td>\n",
       "      <td>1.0</td>\n",
       "      <td>1.0</td>\n",
       "      <td>NaN</td>\n",
       "      <td>23/10/2018</td>\n",
       "      <td>23rd Oct 18</td>\n",
       "      <td>$9.05</td>\n",
       "      <td>NaN</td>\n",
       "      <td>490 Adams St, New York City, NY 10001</td>\n",
       "    </tr>\n",
       "  </tbody>\n",
       "</table>\n",
       "</div>"
      ],
      "text/plain": [
       "      jeux  expedies vendus  facebook  magasin  autres  col_vides      date_1   \n",
       "0      pes      11.0    NaN       4.0      4.0     2.0        NaN  01/01/2024  \\\n",
       "1  xbox360      10.0  7.41m       3.0      NaN     5.0        NaN  18/10/2019   \n",
       "2  xboxOne      15.0  8.06m       3.0      1.0     2.0        NaN  18/02/2024   \n",
       "3  xboxOne      10.0  7.06m       3.0      1.0     2.0        NaN  18/02/2024   \n",
       "4   swtich       8.0  5.99m       6.0      NaN     NaN        NaN  02/03/2020   \n",
       "5  gameboy       NaN    NaN       NaN      NaN     NaN        NaN         NaN   \n",
       "6  android       4.0  0.17m       1.0      1.0     NaN        NaN  10/03/2023   \n",
       "7  android       4.0  0.17m       1.0      1.0     NaN        NaN  10/03/2023   \n",
       "8  android       7.0  3.28m       NaN      1.0     3.0        NaN  17/09/2022   \n",
       "9  nitendo       6.0  2.82m       2.0      1.0     1.0        NaN  23/10/2018   \n",
       "\n",
       "        dates_2   prix   tax                                     ville  \n",
       "0   01th Jan 24  $5.36   NaN           389 South St, Atlanta, GA 30301  \n",
       "1   18th Nov 19  $3.73  20.0            861 Hill St, Atlanta, GA 30301  \n",
       "2   18th Fev 24  $3.70  20.0            861 Hill St, Atlanta, GA 30301  \n",
       "3   18th Fev 24  $3.70  20.0            861 Hill St, Atlanta, GA 30301  \n",
       "4  02th Mars 24  $9.24  20.0           190 Ridge St, Atlanta, GA 30301  \n",
       "5           NaN    NaN   NaN                                       NaN  \n",
       "6  10th Mars 23  $6.29   NaN          824 Forest St, Seattle, WA 98101  \n",
       "7  10th Mars 23  $6.29   NaN          824 Forest St, Seattle, WA 98101  \n",
       "8   17th Sep 23  $3.70  20.0  745 Chestnut St, New York City, NY 10001  \n",
       "9   23rd Oct 18  $9.05   NaN     490 Adams St, New York City, NY 10001  "
      ]
     },
     "execution_count": 14,
     "metadata": {},
     "output_type": "execute_result"
    }
   ],
   "source": [
    "data"
   ]
  },
  {
   "cell_type": "markdown",
   "id": "ed504ec7",
   "metadata": {},
   "source": [
    "Nous souhaitons voir les données d'une colonne particulière en la sélectionnant. Considérons la colonne facebook qui contient les nombres de vente dans notre DataFrame:"
   ]
  },
  {
   "cell_type": "code",
   "execution_count": 15,
   "id": "23c06581",
   "metadata": {},
   "outputs": [
    {
     "data": {
      "text/plain": [
       "0    4.0\n",
       "1    3.0\n",
       "2    3.0\n",
       "3    3.0\n",
       "4    6.0\n",
       "5    NaN\n",
       "6    1.0\n",
       "7    1.0\n",
       "8    NaN\n",
       "9    2.0\n",
       "Name: facebook, dtype: float64"
      ]
     },
     "execution_count": 15,
     "metadata": {},
     "output_type": "execute_result"
    }
   ],
   "source": [
    "data['facebook']"
   ]
  },
  {
   "cell_type": "markdown",
   "id": "788e0b23",
   "metadata": {},
   "source": [
    "Pour sélectionner une colonne, il faut donc mettre son nom entre [ ] avec le nom du df à gauche. Cela vous rapelle probablement la sélection de valeur dans un dictionnaire Python:"
   ]
  },
  {
   "cell_type": "code",
   "execution_count": 16,
   "id": "bee2130c",
   "metadata": {},
   "outputs": [],
   "source": [
    "un_dict = {\"titre\": \"Cours de base Python\"}"
   ]
  },
  {
   "cell_type": "code",
   "execution_count": 17,
   "id": "6ff41afd",
   "metadata": {},
   "outputs": [
    {
     "data": {
      "text/plain": [
       "'Cours de base Python'"
      ]
     },
     "execution_count": 17,
     "metadata": {},
     "output_type": "execute_result"
    }
   ],
   "source": [
    "un_dict['titre']"
   ]
  },
  {
   "cell_type": "markdown",
   "id": "d8a5f2ab",
   "metadata": {},
   "source": [
    "#  Selectioner une ligne d'un dataframe avec iloc"
   ]
  },
  {
   "cell_type": "markdown",
   "id": "6378d6ba",
   "metadata": {},
   "source": [
    "Nous souhaitons sélectionner une ligne particulière de notre dataframe. Les lignes sont identifiés grâce à leur index. Il nous suffit de connaitre l'index qui correspond à notre ligne."
   ]
  },
  {
   "cell_type": "markdown",
   "id": "024c3830",
   "metadata": {},
   "source": [
    "Sélectionnons la 2ème ligne du dataframe. Puisque les index commencent par 0\n",
    "\n",
    " ** data.iloc[1:3]  Nous souhaitons sélectionner les lignes dont les index sont 1, 2.\n",
    " \n",
    " ** data.iloc[ [2, 3, 4]] Séléctionnons les lignes dont les index sont 2, 3, 4."
   ]
  },
  {
   "cell_type": "code",
   "execution_count": 18,
   "id": "09b05ed8",
   "metadata": {},
   "outputs": [
    {
     "data": {
      "text/plain": [
       "jeux                                xboxOne\n",
       "expedies                               15.0\n",
       "vendus                                8.06m\n",
       "facebook                                3.0\n",
       "magasin                                 1.0\n",
       "autres                                  2.0\n",
       "col_vides                               NaN\n",
       "date_1                           18/02/2024\n",
       "dates_2                         18th Fev 24\n",
       "prix                                  $3.70\n",
       "tax                                    20.0\n",
       "ville        861 Hill St, Atlanta, GA 30301\n",
       "Name: 2, dtype: object"
      ]
     },
     "execution_count": 18,
     "metadata": {},
     "output_type": "execute_result"
    }
   ],
   "source": [
    "data.iloc[2]"
   ]
  },
  {
   "cell_type": "markdown",
   "id": "ec6f1145",
   "metadata": {},
   "source": [
    "# Filtrer les lignes d'un dataframe"
   ]
  },
  {
   "cell_type": "markdown",
   "id": "945b093f",
   "metadata": {},
   "source": [
    "Savoir filter les lignes d'un dataframe est une compétence importante quand on manipule des données tabulaires. Quelles sont les questions qui peuvent nous amener à filtrer les lignes d'un dataframe."
   ]
  },
  {
   "cell_type": "code",
   "execution_count": 19,
   "id": "75cf4e63",
   "metadata": {},
   "outputs": [],
   "source": [
    "filtre = (data['expedies'].notnull()) & (data['vendus'].isnull())"
   ]
  },
  {
   "cell_type": "code",
   "execution_count": 20,
   "id": "8b81cbc9",
   "metadata": {},
   "outputs": [],
   "source": [
    "resultat_filtre = data.loc[filtre]"
   ]
  },
  {
   "cell_type": "code",
   "execution_count": 21,
   "id": "8bccf8ea",
   "metadata": {},
   "outputs": [
    {
     "data": {
      "text/html": [
       "<div>\n",
       "<style scoped>\n",
       "    .dataframe tbody tr th:only-of-type {\n",
       "        vertical-align: middle;\n",
       "    }\n",
       "\n",
       "    .dataframe tbody tr th {\n",
       "        vertical-align: top;\n",
       "    }\n",
       "\n",
       "    .dataframe thead th {\n",
       "        text-align: right;\n",
       "    }\n",
       "</style>\n",
       "<table border=\"1\" class=\"dataframe\">\n",
       "  <thead>\n",
       "    <tr style=\"text-align: right;\">\n",
       "      <th></th>\n",
       "      <th>jeux</th>\n",
       "      <th>expedies</th>\n",
       "      <th>vendus</th>\n",
       "      <th>facebook</th>\n",
       "      <th>magasin</th>\n",
       "      <th>autres</th>\n",
       "      <th>col_vides</th>\n",
       "      <th>date_1</th>\n",
       "      <th>dates_2</th>\n",
       "      <th>prix</th>\n",
       "      <th>tax</th>\n",
       "      <th>ville</th>\n",
       "    </tr>\n",
       "  </thead>\n",
       "  <tbody>\n",
       "    <tr>\n",
       "      <th>0</th>\n",
       "      <td>pes</td>\n",
       "      <td>11.0</td>\n",
       "      <td>NaN</td>\n",
       "      <td>4.0</td>\n",
       "      <td>4.0</td>\n",
       "      <td>2.0</td>\n",
       "      <td>NaN</td>\n",
       "      <td>01/01/2024</td>\n",
       "      <td>01th Jan 24</td>\n",
       "      <td>$5.36</td>\n",
       "      <td>NaN</td>\n",
       "      <td>389 South St, Atlanta, GA 30301</td>\n",
       "    </tr>\n",
       "  </tbody>\n",
       "</table>\n",
       "</div>"
      ],
      "text/plain": [
       "  jeux  expedies vendus  facebook  magasin  autres  col_vides      date_1   \n",
       "0  pes      11.0    NaN       4.0      4.0     2.0        NaN  01/01/2024  \\\n",
       "\n",
       "       dates_2   prix  tax                            ville  \n",
       "0  01th Jan 24  $5.36  NaN  389 South St, Atlanta, GA 30301  "
      ]
     },
     "execution_count": 21,
     "metadata": {},
     "output_type": "execute_result"
    }
   ],
   "source": [
    "resultat_filtre"
   ]
  },
  {
   "cell_type": "markdown",
   "id": "969e0d4f",
   "metadata": {},
   "source": [
    " fonction len pour compter le nombre de ligne "
   ]
  },
  {
   "cell_type": "code",
   "execution_count": 22,
   "id": "a860d4b2",
   "metadata": {},
   "outputs": [
    {
     "data": {
      "text/plain": [
       "1"
      ]
     },
     "execution_count": 22,
     "metadata": {},
     "output_type": "execute_result"
    }
   ],
   "source": [
    "resultat_nbs_filtre = len(data.loc[filtre])\n",
    "resultat_nbs_filtre"
   ]
  },
  {
   "cell_type": "code",
   "execution_count": null,
   "id": "1220044d",
   "metadata": {},
   "outputs": [],
   "source": []
  },
  {
   "cell_type": "code",
   "execution_count": null,
   "id": "4bfed4d6",
   "metadata": {},
   "outputs": [],
   "source": []
  }
 ],
 "metadata": {
  "kernelspec": {
   "display_name": "Python 3 (ipykernel)",
   "language": "python",
   "name": "python3"
  },
  "language_info": {
   "codemirror_mode": {
    "name": "ipython",
    "version": 3
   },
   "file_extension": ".py",
   "mimetype": "text/x-python",
   "name": "python",
   "nbconvert_exporter": "python",
   "pygments_lexer": "ipython3",
   "version": "3.10.10"
  }
 },
 "nbformat": 4,
 "nbformat_minor": 5
}
